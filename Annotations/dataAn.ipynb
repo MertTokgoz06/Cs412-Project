{
 "cells": [
  {
   "cell_type": "code",
   "execution_count": 1,
   "metadata": {},
   "outputs": [
    {
     "data": {
      "text/html": [
       "<div>\n",
       "<style scoped>\n",
       "    .dataframe tbody tr th:only-of-type {\n",
       "        vertical-align: middle;\n",
       "    }\n",
       "\n",
       "    .dataframe tbody tr th {\n",
       "        vertical-align: top;\n",
       "    }\n",
       "\n",
       "    .dataframe thead th {\n",
       "        text-align: right;\n",
       "    }\n",
       "</style>\n",
       "<table border=\"1\" class=\"dataframe\">\n",
       "  <thead>\n",
       "    <tr style=\"text-align: right;\">\n",
       "      <th></th>\n",
       "      <th>Url</th>\n",
       "    </tr>\n",
       "  </thead>\n",
       "  <tbody>\n",
       "    <tr>\n",
       "      <th>0</th>\n",
       "      <td>https://docs.google.com/forms/d/e/1FAIpQLSfyzd...</td>\n",
       "    </tr>\n",
       "    <tr>\n",
       "      <th>1</th>\n",
       "      <td>https://docs.google.com/forms/d/e/1FAIpQLSfyzd...</td>\n",
       "    </tr>\n",
       "    <tr>\n",
       "      <th>2</th>\n",
       "      <td>https://docs.google.com/forms/d/e/1FAIpQLSfyzd...</td>\n",
       "    </tr>\n",
       "    <tr>\n",
       "      <th>3</th>\n",
       "      <td>https://docs.google.com/forms/d/e/1FAIpQLSfyzd...</td>\n",
       "    </tr>\n",
       "    <tr>\n",
       "      <th>4</th>\n",
       "      <td>https://docs.google.com/forms/d/e/1FAIpQLSfyzd...</td>\n",
       "    </tr>\n",
       "    <tr>\n",
       "      <th>...</th>\n",
       "      <td>...</td>\n",
       "    </tr>\n",
       "    <tr>\n",
       "      <th>145</th>\n",
       "      <td>https://docs.google.com/forms/d/e/1FAIpQLSfyzd...</td>\n",
       "    </tr>\n",
       "    <tr>\n",
       "      <th>146</th>\n",
       "      <td>https://docs.google.com/forms/d/e/1FAIpQLSfyzd...</td>\n",
       "    </tr>\n",
       "    <tr>\n",
       "      <th>147</th>\n",
       "      <td>https://docs.google.com/forms/d/e/1FAIpQLSfyzd...</td>\n",
       "    </tr>\n",
       "    <tr>\n",
       "      <th>148</th>\n",
       "      <td>https://docs.google.com/forms/d/e/1FAIpQLSfyzd...</td>\n",
       "    </tr>\n",
       "    <tr>\n",
       "      <th>149</th>\n",
       "      <td>https://docs.google.com/forms/d/e/1FAIpQLSfyzd...</td>\n",
       "    </tr>\n",
       "  </tbody>\n",
       "</table>\n",
       "<p>150 rows × 1 columns</p>\n",
       "</div>"
      ],
      "text/plain": [
       "                                                   Url\n",
       "0    https://docs.google.com/forms/d/e/1FAIpQLSfyzd...\n",
       "1    https://docs.google.com/forms/d/e/1FAIpQLSfyzd...\n",
       "2    https://docs.google.com/forms/d/e/1FAIpQLSfyzd...\n",
       "3    https://docs.google.com/forms/d/e/1FAIpQLSfyzd...\n",
       "4    https://docs.google.com/forms/d/e/1FAIpQLSfyzd...\n",
       "..                                                 ...\n",
       "145  https://docs.google.com/forms/d/e/1FAIpQLSfyzd...\n",
       "146  https://docs.google.com/forms/d/e/1FAIpQLSfyzd...\n",
       "147  https://docs.google.com/forms/d/e/1FAIpQLSfyzd...\n",
       "148  https://docs.google.com/forms/d/e/1FAIpQLSfyzd...\n",
       "149  https://docs.google.com/forms/d/e/1FAIpQLSfyzd...\n",
       "\n",
       "[150 rows x 1 columns]"
      ]
     },
     "execution_count": 1,
     "metadata": {},
     "output_type": "execute_result"
    }
   ],
   "source": [
    "import pandas as pd\n",
    "\n",
    "db = pd.read_csv(\"tasks_CS412-3b62d9f8a532.csv\")\n",
    "db"
   ]
  },
  {
   "cell_type": "code",
   "execution_count": 2,
   "metadata": {},
   "outputs": [],
   "source": [
    "usernames = []\n",
    "for i in db[\"Url\"]:\n",
    "    begin = i.rfind(\"/\")\n",
    "    end = i.rfind(\"&entry\")\n",
    "    usernames.append(i[begin+1:end])"
   ]
  },
  {
   "cell_type": "code",
   "execution_count": 3,
   "metadata": {},
   "outputs": [
    {
     "name": "stderr",
     "output_type": "stream",
     "text": [
      "c:\\Users\\Mert\\anaconda3\\lib\\site-packages\\win_unicode_console\\__init__.py:31: RuntimeWarning: sys.stdin.encoding == 'utf-8', whereas sys.stdout.encoding == 'UTF-8', readline hook consumer may assume they are the same\n",
      "  readline_hook.enable(use_pyreadline=use_pyreadline)\n"
     ]
    }
   ],
   "source": [
    "import instaloader \n",
    "\n",
    "loader = instaloader.Instaloader()\n",
    "\n",
    "def scraping(username):\n",
    "    try:\n",
    "        profile = instaloader.Profile.from_username(loader.context, username)\n",
    "\n",
    "        profile_data = {\n",
    "            \"username\": profile.username,\n",
    "            \"id\": profile.userid,\n",
    "            \"full_name\": profile.full_name,\n",
    "            \"biography\": profile.biography,\n",
    "            \"post_count\": profile.mediacount,\n",
    "            \"follower_count\": profile.followers,\n",
    "            \"following_count\": profile.followees,\n",
    "            \"is_business_account\": profile.is_business_account,\n",
    "            \"is_private\": profile.is_private,\n",
    "            \"is_verified\": profile.is_verified,\n",
    "            \"external_url\": profile.external_url,\n",
    "        }\n",
    "\n",
    "        post_data = []\n",
    "\n",
    "        for post in profile.get_posts():\n",
    "            post_info = {\n",
    "                \"caption\": post.caption,\n",
    "                \"likes\": post.likes,\n",
    "                \"comments\": post.comments,\n",
    "                \"timestamp\": post.date_utc.isoformat(),\n",
    "                \"media_url\": post.url, \n",
    "                \"post_shortcode\": post.shortcode, \n",
    "            }\n",
    "            post_data.append(post_info)\n",
    "            if len(post_data) == 36:\n",
    "                break\n",
    "        \n",
    "        return {\n",
    "            \"profile\" : profile_data,\n",
    "            \"posts\" : post_data\n",
    "        }\n",
    "\n",
    "    except Exception as e: \n",
    "        return{\"Error: \", str(e)}"
   ]
  },
  {
   "cell_type": "code",
   "execution_count": 75,
   "metadata": {},
   "outputs": [],
   "source": [
    "x = scraping(\"mubi\")"
   ]
  },
  {
   "cell_type": "code",
   "execution_count": 66,
   "metadata": {},
   "outputs": [
    {
     "data": {
      "text/plain": [
       "{'username': 'mubi',\n",
       " 'id': 789424687,\n",
       " 'full_name': 'MUBI',\n",
       " 'biography': 'WATCH GREAT CINEMA',\n",
       " 'post_count': 11617,\n",
       " 'follower_count': 1329663,\n",
       " 'following_count': 2437,\n",
       " 'is_business_account': True,\n",
       " 'is_private': False,\n",
       " 'is_verified': True,\n",
       " 'external_url': 'http://linkin.bio/mubi/'}"
      ]
     },
     "execution_count": 66,
     "metadata": {},
     "output_type": "execute_result"
    }
   ],
   "source": [
    "x[\"profile\"]"
   ]
  },
  {
   "cell_type": "code",
   "execution_count": 67,
   "metadata": {},
   "outputs": [
    {
     "data": {
      "text/plain": [
       "[{'caption': 'Warning: THE SUBSTANCE is here. \\n\\nStream at your own risk. Exclusively on @mubi in the US, UK, Latin America, Germany, Turkey, Canada, India and more.',\n",
       "  'likes': 23283,\n",
       "  'comments': 503,\n",
       "  'timestamp': '2024-10-31T11:51:06',\n",
       "  'media_url': 'https://instagram.fyei6-1.fna.fbcdn.net/v/t51.29350-15/465062020_827456849322362_7821926331818988366_n.jpg?stp=dst-jpg_e35_tt6&_nc_ht=instagram.fyei6-1.fna.fbcdn.net&_nc_cat=102&_nc_ohc=_cw37CyKUaYQ7kNvgF42Sp8&_nc_gid=6d560f39ba49492282f3c5eb2efd682e&edm=AEhyXUkBAAAA&ccb=7-5&ig_cache_key=MzQ5MDk2NDg3Nzk1MTAxMDg2Nw%3D%3D.3-ccb7-5&oh=00_AYD2JmavlqIVjSNEo2Y_MuwGGmE-3sFKKwyuJiu80LiDGQ&oe=675506D0&_nc_sid=8f1549',\n",
       "  'post_shortcode': 'DByZhLJo15h'},\n",
       " {'caption': 'New poster for THE SUBSTANCE 🧪\\n\\nNow in theaters. Now streaming exclusively on @mubi in the US, UK, Latin America, Germany, Turkey, Canada, India and more. A MUBI Release.',\n",
       "  'likes': 30412,\n",
       "  'comments': 152,\n",
       "  'timestamp': '2024-09-05T18:57:27',\n",
       "  'media_url': 'https://instagram.fyei6-5.fna.fbcdn.net/v/t39.30808-6/468809922_17872429281233796_7490331983983456301_n.jpg?stp=dst-jpg_e35&efg=eyJ2ZW5jb2RlX3RhZyI6ImltYWdlX3VybGdlbi4xMzQ5eDE2ODUuc2RyLmYzMDgwOC5kZWZhdWx0X2ltYWdlIn0&_nc_ht=instagram.fyei6-5.fna.fbcdn.net&_nc_cat=100&_nc_ohc=jjuuQTlI4LQQ7kNvgHiXZJl&_nc_gid=6d560f39ba49492282f3c5eb2efd682e&edm=AEhyXUkAAAAA&ccb=7-5&ig_cache_key=MzQ1MDU5MjA0MzE5MTE5NzA0Ng%3D%3D.3-ccb7-5&oh=00_AYDF2ppWAtC0tW3J_BM-VINunU7js-L8tOJQlOawGBAgFA&oe=6755038D&_nc_sid=8f1549',\n",
       "  'post_shortcode': 'C_i9y5nM112'},\n",
       " {'caption': 'A scream queen, indeed.\\n\\nDemi Moore is Elisabeth Sparkle in THE SUBSTANCE. Now in theaters. Now streaming exclusively on @mubi in the US, UK, Latin America, Germany, Turkey, Canada, India and more. A MUBI Release.',\n",
       "  'likes': 101182,\n",
       "  'comments': 2376,\n",
       "  'timestamp': '2024-09-06T19:08:13',\n",
       "  'media_url': 'https://instagram.fyei6-4.fna.fbcdn.net/v/t51.29350-15/458493367_1508147320074628_5277656636465222126_n.jpg?stp=dst-jpg_e15&efg=eyJ2ZW5jb2RlX3RhZyI6ImltYWdlX3VybGdlbi43MjB4NzIwLnNkci5mMjkzNTAuZGVmYXVsdF9jb3Zlcl9mcmFtZSJ9&_nc_ht=instagram.fyei6-4.fna.fbcdn.net&_nc_cat=104&_nc_ohc=H1fLq_mkcAMQ7kNvgFnAHDV&_nc_gid=6d560f39ba49492282f3c5eb2efd682e&edm=AEhyXUkBAAAA&ccb=7-5&ig_cache_key=MzQ1MTMyMDY3NDY3OTc0MDA1NQ%3D%3D.3-ccb7-5&oh=00_AYDdVT8FmNooYMJaXNhR6SNaxq79Kk5NzKcC2pdR0chlCw&oe=67550B72&_nc_sid=8f1549',\n",
       "  'post_shortcode': 'C_ljd4kP1aX'},\n",
       " {'caption': \"Revisit Ephraim Asili (@ephraimasili,) Richard Brody, A.S. Hamrah (@hamrahrama,) Rachel Kushner (@realrachelkushner,) Miguel Marías, Andréa Picard (@andrea_tavie,) and Lucía Salas' (@aelitademarte) reflections on the director's work at the link in our bio.\",\n",
       "  'likes': 264,\n",
       "  'comments': 0,\n",
       "  'timestamp': '2024-12-03T16:22:35',\n",
       "  'media_url': 'https://instagram.fyei6-5.fna.fbcdn.net/v/t51.29350-15/469161880_946128770764595_4503723111456954963_n.jpg?stp=dst-jpg_e15_fr_s1080x1080&_nc_ht=instagram.fyei6-5.fna.fbcdn.net&_nc_cat=111&_nc_ohc=8LyMr7827J8Q7kNvgEG77WP&_nc_gid=6d560f39ba49492282f3c5eb2efd682e&edm=AEhyXUkBAAAA&ccb=7-5&ig_cache_key=MzUxNTAxOTEyMzcxMzg0ODc1OA%3D%3D.3-ccb7-5&oh=00_AYChHdGILsynV1elzfEMiySfKbIsbUV50AonXEZGnxRsUQ&oe=675521C1&_nc_sid=8f1549',\n",
       "  'post_shortcode': 'DDH20gUK43R'},\n",
       " {'caption': 'FIRST NAME CARMEN (Jean-Luc Godard, 1983.)',\n",
       "  'likes': 8193,\n",
       "  'comments': 6,\n",
       "  'timestamp': '2024-12-03T12:12:52',\n",
       "  'media_url': 'https://instagram.fyei6-5.fna.fbcdn.net/v/t51.29350-15/469003066_1653808802184339_8678601757989702367_n.jpg?stp=dst-jpg_e15_fr_s1080x1080_tt6&_nc_ht=instagram.fyei6-5.fna.fbcdn.net&_nc_cat=1&_nc_ohc=-DTHtOVjJIoQ7kNvgHxbTDw&_nc_gid=6d560f39ba49492282f3c5eb2efd682e&edm=AEhyXUkBAAAA&ccb=7-5&ig_cache_key=MzUxNDg5MzQzOTQ3NDA3MzYwNA%3D%3D.3-ccb7-5&oh=00_AYAYXOEYlHXwgA69hMJqfVwKgtYsJNMnsxUxndq4vhzgBg&oe=675522E3&_nc_sid=8f1549',\n",
       "  'post_shortcode': 'DDHaPfHNjuE'},\n",
       " {'caption': 'For newcomers to artist William Kentridge’s work, SELF-PORTRAIT AS A COFFEE-POT serves as a bewitching introduction to its dazzling scope and variety, as a miscellany of projects old and new are recreated or deconstructed.\\n\\nAll episodes now streaming exclusively and globally.',\n",
       "  'likes': 744,\n",
       "  'comments': 0,\n",
       "  'timestamp': '2024-12-02T16:04:09',\n",
       "  'media_url': 'https://instagram.fyei6-2.fna.fbcdn.net/v/t39.30808-6/468621964_1013486274138099_3203641421355653479_n.jpg?stp=dst-jpg_e35_s1080x1080_sh0.08_tt6&_nc_ht=instagram.fyei6-2.fna.fbcdn.net&_nc_cat=103&_nc_ohc=nhC_4LGNAsUQ7kNvgFylURg&_nc_gid=6d560f39ba49492282f3c5eb2efd682e&edm=AEhyXUkAAAAA&ccb=7-5&ig_cache_key=MzUxNDI4NTA3Mjk5MzE3OTE1MQ%3D%3D.3-ccb7-5&oh=00_AYDzfwjQuOAAAU1NgLeNm-zE1qJXEiAFhMieyjLp5Xk4zA&oe=67550CE8&_nc_sid=8f1549',\n",
       "  'post_shortcode': 'DDFP6oRNahh'},\n",
       " {'caption': 'We’re excited to introduce MUBI Editions, our new publishing arm dedicated to cinema and the arts. Our first book, the richly-illustrated READ FRAME TYPE FILM, chronicles the role of text and typography in 20th century cinema. Prepared in collaboration with the Centre Pompidou. Pre-order your copy now at the link in bio.',\n",
       "  'likes': 5232,\n",
       "  'comments': 46,\n",
       "  'timestamp': '2024-12-02T13:01:50',\n",
       "  'media_url': 'https://instagram.fyei6-3.fna.fbcdn.net/v/t51.2885-15/469153983_18476878240048688_366639168086594485_n.jpg?stp=dst-jpg_e15_fr_s1080x1080_tt6&_nc_ht=instagram.fyei6-3.fna.fbcdn.net&_nc_cat=108&_nc_ohc=1Bwy12MEIq0Q7kNvgGoMIwy&_nc_gid=6d560f39ba49492282f3c5eb2efd682e&edm=AEhyXUkBAAAA&ccb=7-5&oh=00_AYCvACYzqwJj1I-3K61E6n6FeI2PS1W7H8m5r4afIi-8fw&oe=675504ED&_nc_sid=8f1549',\n",
       "  'post_shortcode': 'DDE7DO3tfzX'},\n",
       " {'caption': 'A powerful exploration of motherhood and mental health, blending film clips, personal stories, and director Elizabeth Sankey’s own experience of postpartum anxiety. WITCHES is now streaming exclusively and globally.',\n",
       "  'likes': 754,\n",
       "  'comments': 3,\n",
       "  'timestamp': '2024-12-02T08:00:28',\n",
       "  'media_url': 'https://instagram.fyei6-4.fna.fbcdn.net/v/t39.30808-6/468303985_1008965574590169_218156520701366096_n.jpg?stp=dst-jpg_e15_fr_s1080x1080&_nc_ht=instagram.fyei6-4.fna.fbcdn.net&_nc_cat=109&_nc_ohc=iWo4KNDXV3kQ7kNvgH4Uxj2&_nc_gid=6d560f39ba49492282f3c5eb2efd682e&edm=AEhyXUkAAAAA&ccb=7-5&ig_cache_key=MzUxNDA0MTYwMTg5NzQyMTgxNA%3D%3D.3-ccb7-5&oh=00_AYBh1L4gMhsYmDkkPf3f3nEiSWMHAeWv6NXHoi2rp7tjgA&oe=67552211&_nc_sid=8f1549',\n",
       "  'post_shortcode': 'DDEYkAqiFVf'},\n",
       " {'caption': 'Lizzie Borden desensationalizes sex work with a feminist film of wit and radical warmth, immersed in the mundane details and rhythms of labor.\\nWORKING GIRLS is #NowStreaming on:\\n🇧🇷 @mubibrasil\\n🇨🇦 @mubicanada\\n🇫🇷 @mubifrance\\n�🇩🇪 @mubideutschland\\n🇮🇳 @mubiindia\\n🇮🇹 @mubiitalia\\n🇦🇷🇨🇱🇨🇴🇲🇽🇵🇪 @mubilat\\n🇳🇱 @mubinederland\\n🇹🇷 @mubiturkiye',\n",
       "  'likes': 1314,\n",
       "  'comments': 9,\n",
       "  'timestamp': '2024-12-01T20:01:25',\n",
       "  'media_url': 'https://instagram.fyei6-4.fna.fbcdn.net/v/t51.29350-15/468996875_586746137235417_6737389109445094978_n.jpg?stp=dst-jpg_e15_tt6&efg=eyJ2ZW5jb2RlX3RhZyI6ImltYWdlX3VybGdlbi4xMDgweDEwODAuc2RyLmYyOTM1MC5kZWZhdWx0X2NvdmVyX2ZyYW1lIn0&_nc_ht=instagram.fyei6-4.fna.fbcdn.net&_nc_cat=109&_nc_ohc=pGThDIMD2CYQ7kNvgEyYnhI&_nc_gid=6d560f39ba49492282f3c5eb2efd682e&edm=AEhyXUkBAAAA&ccb=7-5&ig_cache_key=MzUxMzY3OTQ3Mjk5ODA4ODM3NQ%3D%3D.3-ccb7-5&oh=00_AYA9LUf6i-7cqLK7lJLQZX7SjIC7fj2IiIHou3SlDWqDqQ&oe=675510FD&_nc_sid=8f1549',\n",
       "  'post_shortcode': 'DDDGN1Kof63'},\n",
       " {'caption': 'She crushed it. \\n\\nWatch THE SUBSTANCE star Demi Moore on @hotones now.',\n",
       "  'likes': 7733,\n",
       "  'comments': 99,\n",
       "  'timestamp': '2024-12-01T19:31:33',\n",
       "  'media_url': 'https://instagram.fyei6-5.fna.fbcdn.net/v/t51.2885-15/469060696_17872525476233796_2444577832969637032_n.jpg?stp=dst-jpg_e15_tt6&efg=eyJ2ZW5jb2RlX3RhZyI6ImltYWdlX3VybGdlbi4xMDgweDE5MjAuc2RyLmY3NTc2MS5kZWZhdWx0X2NvdmVyX2ZyYW1lIn0&_nc_ht=instagram.fyei6-5.fna.fbcdn.net&_nc_cat=100&_nc_ohc=7YWMUi2aUHsQ7kNvgEAvcJI&_nc_gid=6d560f39ba49492282f3c5eb2efd682e&edm=AEhyXUkBAAAA&ccb=7-5&ig_cache_key=MzUxMzY2NDQzNzc3MDUxODAwMw%3D%3D.3-ccb7-5&oh=00_AYBI-egXS0170EmFvDX0UH3RTmz3-7-psVOYIJvUQRCvqA&oe=675509D5&_nc_sid=8f1549',\n",
       "  'post_shortcode': 'DDDCzChO_3z'},\n",
       " {'caption': 'Our countdown to your most-watched films of the year. See the films that shaped your 2024 at the link in our bio.',\n",
       "  'likes': 4890,\n",
       "  'comments': 19,\n",
       "  'timestamp': '2024-12-01T16:04:09',\n",
       "  'media_url': 'https://instagram.fyei6-5.fna.fbcdn.net/v/t51.29350-15/468985823_1653189962243843_8337959066414126737_n.jpg?stp=dst-jpg_e15_fr_s1080x1080&_nc_ht=instagram.fyei6-5.fna.fbcdn.net&_nc_cat=111&_nc_ohc=ofVNCEen1wwQ7kNvgGEZZo5&_nc_gid=6d560f39ba49492282f3c5eb2efd682e&edm=AEhyXUkBAAAA&ccb=7-5&oh=00_AYCA2euLoH7jzvdphwL5jRXuQX3zbYNhohVNkCgBp_gJyw&oe=675526B2&_nc_sid=8f1549',\n",
       "  'post_shortcode': 'DDCrF_8vTtG'},\n",
       " {'caption': \"A collage of paintings, pictures, written notes, and Jean-Luc Godard’s unmistakable narration, TRAILER OF THE FILM THAT WILL NEVER EXIST: 'PHONY WARS' shows the master at work, his ingenuity as inspiring as ever. #NowStreaming on:\\n🇧🇷 @mubibrasil\\n🇩🇪 @mubideutschland\\n🇮🇳 @mubiindia\\n🇮🇹 @mubiitalia\\n🇦🇷🇨🇱🇨🇴🇲🇽🇵🇪 @mubilat\\n🇳🇱 @mubinederland\\n🇹🇷 @mubiturkiye\\n🇬🇧 @mubiuk\",\n",
       "  'likes': 2147,\n",
       "  'comments': 4,\n",
       "  'timestamp': '2024-12-01T12:19:23',\n",
       "  'media_url': 'https://instagram.fyei6-2.fna.fbcdn.net/v/t51.29350-15/468901362_1136069401441155_6822280580427892243_n.jpg?stp=dst-jpg_e35&_nc_ht=instagram.fyei6-2.fna.fbcdn.net&_nc_cat=103&_nc_ohc=v42qqdiaQvQQ7kNvgHN40rj&_nc_gid=6d560f39ba49492282f3c5eb2efd682e&edm=AEhyXUkBAAAA&ccb=7-5&ig_cache_key=MzUxMzQ0NzE2MTg1MDcyOTk4MA%3D%3D.3-ccb7-5&oh=00_AYCrEQMNhOOG4fJJICVOKPBtzfP7blb2wL2_759u3pwT3A&oe=6755207F&_nc_sid=8f1549',\n",
       "  'post_shortcode': 'DDCRZa-NIBZ'},\n",
       " {'caption': '🧚\\u200d♀️\\n4. THE SUBSTANCE #NowStreaming exclusively on @mubiusa, @mubiusa, @mubilat, @mubideutschland, @mubiturkiye, @mubicanada, @mubiindia and more.',\n",
       "  'likes': 1784,\n",
       "  'comments': 2,\n",
       "  'timestamp': '2024-12-01T08:00:20',\n",
       "  'media_url': 'https://instagram.fyei6-2.fna.fbcdn.net/v/t39.30808-6/468721547_1011340514352675_5325465964788421432_n.jpg?stp=dst-jpg_e15_fr_p1080x1080_tt6&_nc_ht=instagram.fyei6-2.fna.fbcdn.net&_nc_cat=103&_nc_ohc=cKKncO2HzNYQ7kNvgGp8PUN&_nc_gid=c38214e36acf42a5bd156058249fccf7&edm=AEhyXUkAAAAA&ccb=7-5&ig_cache_key=MzUxMzMxNjc2MDI0MDA5Nzc2NA%3D%3D.3-ccb7-5&oh=00_AYD3wBjtQMMDReoPzH0SX1k872lArsaRXrHGUBquBLNfog&oe=6755246D&_nc_sid=8f1549',\n",
       "  'post_shortcode': 'DDBzwJ2CiZn'},\n",
       " {'caption': 'At the link in our bio, Lee Pace (@leeepfrog) reveals how he brought his iconic role in THE FALL to life, delving into the creative process and the magic behind Tarsem’s visionary cult classic.\\u2060\\n\\u2060\\nNewly restored in 4K, THE FALL is now streaming exclusively and (almost) globally.',\n",
       "  'likes': 4391,\n",
       "  'comments': 32,\n",
       "  'timestamp': '2024-11-30T20:05:09',\n",
       "  'media_url': 'https://instagram.fyei6-1.fna.fbcdn.net/v/t51.29350-15/468922595_1998024710669839_1615251819785761460_n.jpg?stp=dst-jpg_e15&efg=eyJ2ZW5jb2RlX3RhZyI6ImltYWdlX3VybGdlbi4xMDgweDEwODAuc2RyLmYyOTM1MC5kZWZhdWx0X2NvdmVyX2ZyYW1lIn0&_nc_ht=instagram.fyei6-1.fna.fbcdn.net&_nc_cat=107&_nc_ohc=PX8XfeYJU3cQ7kNvgEfM0ay&_nc_gid=c38214e36acf42a5bd156058249fccf7&edm=AEhyXUkBAAAA&ccb=7-5&ig_cache_key=MzUxMjk1NTMxMzA4NDMwNzI0NA%3D%3D.3-ccb7-5&oh=00_AYDMFdGWM6Hq_UD-yQO7aIi4vNRG6xQPaBRskou7-p0IYg&oe=675509C3&_nc_sid=8f1549',\n",
       "  'post_shortcode': 'DDAhj6sNhcs'},\n",
       " {'caption': 'Isabelle Huppert in IN ANOTHER COUNTRY (Hong Sang-soo, 2012.)',\n",
       "  'likes': 7935,\n",
       "  'comments': 13,\n",
       "  'timestamp': '2024-11-30T15:55:00',\n",
       "  'media_url': 'https://instagram.fyei6-3.fna.fbcdn.net/v/t51.2885-15/468675545_18476097613048688_4965742319767625360_n.jpg?stp=dst-jpg_e35_s1080x1080_sh0.08_tt6&_nc_ht=instagram.fyei6-3.fna.fbcdn.net&_nc_cat=108&_nc_ohc=TlJOIaOHGKAQ7kNvgF9F7Z1&_nc_gid=c38214e36acf42a5bd156058249fccf7&edm=AEhyXUkBAAAA&ccb=7-5&ig_cache_key=MzUxMTQzMDEyNTQ0NDI2NTIzNA%3D%3D.3-ccb7-5&oh=00_AYAzprsC9wnV2H7AQjiewB31J7BOQgxrSJXiJQ2gtPxHWw&oe=6755215C&_nc_sid=8f1549',\n",
       "  'post_shortcode': 'DDAFYQsN-0d'},\n",
       " {'caption': 'Luminous and delightfully off-kilter, these are comedies of sheer originality—mordant, often tender, and always unpredictable. Start streaming \"Humor and Melancholy: The Cinema of Martín Rejtman\" at the link in our bio.',\n",
       "  'likes': 2980,\n",
       "  'comments': 14,\n",
       "  'timestamp': '2024-11-30T12:03:12',\n",
       "  'media_url': 'https://instagram.fyei6-1.fna.fbcdn.net/v/t51.29350-15/468896822_1922442101582263_5981815524840353432_n.jpg?stp=dst-jpg_e15&efg=eyJ2ZW5jb2RlX3RhZyI6ImltYWdlX3VybGdlbi4xMDgweDEwODAuc2RyLmYyOTM1MC5kZWZhdWx0X2NvdmVyX2ZyYW1lIn0&_nc_ht=instagram.fyei6-1.fna.fbcdn.net&_nc_cat=107&_nc_ohc=BFok27Ld8LUQ7kNvgFgHosQ&_nc_gid=c38214e36acf42a5bd156058249fccf7&edm=AEhyXUkBAAAA&ccb=7-5&ig_cache_key=MzUxMjcxMjc1MzkyNDM4OTkzNw%3D%3D.3-ccb7-5&oh=00_AYBqSJRLOyfq_6NjP6zrD41zCC7LeXL6hvKIpVv3oEyvpw&oe=6754F21F&_nc_sid=8f1549',\n",
       "  'post_shortcode': 'DC_qaN3pbwx'},\n",
       " {'caption': 'Guess the film.',\n",
       "  'likes': 9371,\n",
       "  'comments': 152,\n",
       "  'timestamp': '2024-11-30T08:00:19',\n",
       "  'media_url': 'https://instagram.fyei6-4.fna.fbcdn.net/v/t39.30808-6/468721394_1011054627714597_7499437912264394738_n.jpg?stp=dst-jpg_e35_s1080x1080_sh0.08&_nc_ht=instagram.fyei6-4.fna.fbcdn.net&_nc_cat=109&_nc_ohc=dsIw1SZhvuAQ7kNvgEpgs37&_nc_gid=c38214e36acf42a5bd156058249fccf7&edm=AEhyXUkAAAAA&ccb=7-5&ig_cache_key=MzUxMjU5MTk3NDg4MDMxMTExOQ%3D%3D.3-ccb7-5&oh=00_AYC_D21NycyE-MnbRHSvCrztodt3wAhbE6YYhcajObVAbA&oe=6754F293&_nc_sid=8f1549',\n",
       "  'post_shortcode': 'DC_O9JoIqlP'},\n",
       " {'caption': 'Starring Paul Mescal and Frankie Corio as a dad and daughter abroad, Charlotte Wells’s moving debut AFTERSUN is now streaming in the UK, France, Germany, Latin America, Turkey, India, Italy, the Netherlands and more. A MUBI Release.',\n",
       "  'likes': 22588,\n",
       "  'comments': 74,\n",
       "  'timestamp': '2024-11-29T14:59:10',\n",
       "  'media_url': 'https://instagram.fyei6-3.fna.fbcdn.net/v/t39.30808-6/467854389_1010594391093954_5567170012865339777_n.jpg?stp=dst-jpg_e15_fr_p1080x1080&_nc_ht=instagram.fyei6-3.fna.fbcdn.net&_nc_cat=106&_nc_ohc=gpuyrQkAN4AQ7kNvgGoGKbW&_nc_gid=c38214e36acf42a5bd156058249fccf7&edm=AEhyXUkAAAAA&ccb=7-5&ig_cache_key=MzUxMjA3ODAzNTk0MTE4MjE4Mw%3D%3D.3-ccb7-5&oh=00_AYCCHfIpjadVlF5x5vwGwAML7J5VFZ6W29JhX47xyfFC8Q&oe=67550081&_nc_sid=8f1549',\n",
       "  'post_shortcode': 'DC9aGCUuSD8'},\n",
       " {'caption': 'A crowd-pleasing multicultural comedy from director Fatih Akin, SOUL KITCHEN is #NowStreaming on:\\n🇧🇷 @mubibrasil\\n🇨🇦 @mubicanada\\n🇮🇳 @mubiindia\\n🇦🇷🇨🇱🇨🇴🇲🇽🇵🇪 @mubilat\\n🇳🇱 @mubinederland\\n🇹🇷 @mubiturkiye\\n🇬🇧 @mubiuk',\n",
       "  'likes': 20308,\n",
       "  'comments': 61,\n",
       "  'timestamp': '2024-11-29T12:01:38',\n",
       "  'media_url': 'https://instagram.fyei6-4.fna.fbcdn.net/v/t51.29350-15/468770760_1234257814302105_7133717869473531863_n.jpg?stp=dst-jpg_e15_tt6&efg=eyJ2ZW5jb2RlX3RhZyI6ImltYWdlX3VybGdlbi4xMDgweDEwODAuc2RyLmYyOTM1MC5kZWZhdWx0X2NvdmVyX2ZyYW1lIn0&_nc_ht=instagram.fyei6-4.fna.fbcdn.net&_nc_cat=109&_nc_ohc=fDatBIq66agQ7kNvgEp2XmY&_nc_gid=c38214e36acf42a5bd156058249fccf7&edm=AEhyXUkBAAAA&ccb=7-5&ig_cache_key=MzUxMTk4ODIwOTAyODk0NTU2Ng%3D%3D.3-ccb7-5&oh=00_AYC1mLdJIzzKsLGrnH96EvToc4Q1Y4Vfx_P5oHAl9GGn6g&oe=67551873&_nc_sid=8f1549',\n",
       "  'post_shortcode': 'DC9Fqs2h9ae'},\n",
       " {'caption': \"it's turkey time\",\n",
       "  'likes': 9417,\n",
       "  'comments': 77,\n",
       "  'timestamp': '2024-11-28T16:19:22',\n",
       "  'media_url': 'https://instagram.fyei6-4.fna.fbcdn.net/v/t51.29350-15/468530733_1771917090328012_40014268430728172_n.jpg?stp=dst-jpg_e35&_nc_ht=instagram.fyei6-4.fna.fbcdn.net&_nc_cat=104&_nc_ohc=FA-y3tJcyusQ7kNvgFOWl-L&_nc_gid=c38214e36acf42a5bd156058249fccf7&edm=AEhyXUkBAAAA&ccb=7-5&ig_cache_key=MzUxMTM5MzYzMDExNzgwNzgzMw%3D%3D.3-ccb7-5&oh=00_AYA7oRPxnsieZEx3bwNPMhclQx0AV5566p6u1UL66FpDWg&oe=6754FA33&_nc_sid=8f1549',\n",
       "  'post_shortcode': 'DC6-ejOPg6H'},\n",
       " {'caption': 'Actor and filmmaker @rebeccahall, scholar @erhelford and writer Lesley Chow join host @ricogagliano in this week’s MUBI Podcast, exploring George Cukor’s dreamy, gender-fluid comedy SYLVIA SCARLETT: the film that derailed Kathrine Hepburn’s career for years. Listen and subscribe at the link in our bio.',\n",
       "  'likes': 1205,\n",
       "  'comments': 7,\n",
       "  'timestamp': '2024-11-28T15:04:03',\n",
       "  'media_url': 'https://instagram.fyei6-3.fna.fbcdn.net/v/t51.29350-15/468492557_2066858040436806_4351452102169280970_n.jpg?stp=dst-jpg_e15_fr_s1080x1080_tt6&_nc_ht=instagram.fyei6-3.fna.fbcdn.net&_nc_cat=106&_nc_ohc=ZltaQYpWeocQ7kNvgF9hIxE&_nc_gid=c38214e36acf42a5bd156058249fccf7&edm=AEhyXUkBAAAA&ccb=7-5&oh=00_AYAWagtVEzczWav5YpFL19-EO-vujG9yBVlygMO2C2Z2zQ&oe=67550923&_nc_sid=8f1549',\n",
       "  'post_shortcode': 'DC61z_hJjuc'},\n",
       " {'caption': 'A stylistically adventurous follow-up to MISS BALA, Gerardo Naranjo’s KOKOLOKO is a jaggedly freewheeling examination of machismo and star-crossed love. #NowStreaming (almost) globally',\n",
       "  'likes': 1958,\n",
       "  'comments': 0,\n",
       "  'timestamp': '2024-11-28T11:55:00',\n",
       "  'media_url': 'https://instagram.fyei6-3.fna.fbcdn.net/v/t51.2885-15/468642433_18475688689048688_731959324072013040_n.jpg?stp=dst-jpg_e15_fr_s1080x1080&_nc_ht=instagram.fyei6-3.fna.fbcdn.net&_nc_cat=108&_nc_ohc=MOPOohnLcC8Q7kNvgGJHOfj&_nc_gid=c38214e36acf42a5bd156058249fccf7&edm=AEhyXUkBAAAA&ccb=7-5&ig_cache_key=MzUwOTk0MzAyNjYxNDQzNjI2Nw%3D%3D.3-ccb7-5&oh=00_AYBz89YA7M5_KkfpcwFyggAcnK_krH7w56RyFvAbuC7RHA&oe=6755204C&_nc_sid=8f1549',\n",
       "  'post_shortcode': 'DC6gQj4NrDJ'},\n",
       " {'caption': \"China’s one-child policy is the historical backdrop for Wang Xiaoshuai's sweeping chronicle of family and loss, a journey at once intimate and epic between a tragic past and a resilient present. SO LONG, MY SON is #NowStreaming on:\\n🇧🇷 @mubibrasil\\n🇫🇷 @mubifrance \\n🇩🇪 @mubideutschland\\n🇮🇳 @mubiindia\\n🇦🇷🇨🇱🇨🇴🇲🇽🇵🇪 @mubilat\\n🇺🇸 @mubiusa\",\n",
       "  'likes': 1678,\n",
       "  'comments': 9,\n",
       "  'timestamp': '2024-11-27T21:01:40',\n",
       "  'media_url': 'https://instagram.fyei6-4.fna.fbcdn.net/v/t51.29350-15/468471298_2971819426309269_6952737315387495107_n.jpg?stp=dst-jpg_e15_tt6&efg=eyJ2ZW5jb2RlX3RhZyI6ImltYWdlX3VybGdlbi4xMDgweDEwODAuc2RyLmYyOTM1MC5kZWZhdWx0X2NvdmVyX2ZyYW1lIn0&_nc_ht=instagram.fyei6-4.fna.fbcdn.net&_nc_cat=109&_nc_ohc=Rx-k7u2xCfgQ7kNvgFIStrr&_nc_gid=c38214e36acf42a5bd156058249fccf7&edm=AEhyXUkBAAAA&ccb=7-5&ig_cache_key=MzUxMDgxMDYzMDMwNzU0OTcyMQ%3D%3D.3-ccb7-5&oh=00_AYAY11GIdqrLYy4Q5wO6vWLX23URAqFBsxZQWBbCS3FNUw&oe=675515FE&_nc_sid=8f1549',\n",
       "  'post_shortcode': 'DC456rNJZIZ'},\n",
       " {'caption': \"Coralie Fargeat's THE SUBSTANCE, from script to screen. In theaters and on @mubi now.\",\n",
       "  'likes': 27792,\n",
       "  'comments': 70,\n",
       "  'timestamp': '2024-11-27T17:55:56',\n",
       "  'media_url': 'https://instagram.fyei6-2.fna.fbcdn.net/v/t51.29350-15/468491705_450064591467433_4737288456147197311_n.jpg?stp=dst-jpg_e15_fr_p1080x1080&_nc_ht=instagram.fyei6-2.fna.fbcdn.net&_nc_cat=101&_nc_ohc=hMoTcW8YZb8Q7kNvgEOLE4h&_nc_gid=c38214e36acf42a5bd156058249fccf7&edm=AEhyXUkBAAAA&ccb=7-5&ig_cache_key=MzUxMDcxNzQ1NjY3MjQ2MTEyNg%3D%3D.3-ccb7-5&oh=00_AYC2JJ4QjhZFECk8aAxFlvTdbTgQcmgAIgx13yyxF7tatg&oe=6754FF94&_nc_sid=8f1549',\n",
       "  'post_shortcode': 'DC4ku9Wus77'},\n",
       " {'caption': 'Recently on Notebook:\\n🔹@mads.wulfahrt on Nathan Silver\\'s BETWEEN THE TEMPLES and Jesse Eisenberg\\'s A REAL PAIN, @davidpschwartz on photographer Robert Frank’s little-known films, Leonardo Goi on the response to Francis Ford Coppola’s MEGALOPOLIS, @kat_sachs\\xa0on Carrie Courogen’s biography of Elaine May \"Miss May Does Not Exist,\" @kerosenejones_ on Liliana Cavani\\'s THE NIGHT PORTER, Dan Schindel explores a shot from Satoshi Kon\\'s PAPRIKA\\n🔹WITCHES director Elizabeth Sankey (@sankles) shares several title cards that inspired her film\\n\\nRead more and subscribe to our weekly newsletter at the link in our bio 📖\\n\\n(Pictured film: Ingmar Bergman\\'s ALL THESE WOMEN)',\n",
       "  'likes': 1543,\n",
       "  'comments': 0,\n",
       "  'timestamp': '2024-11-27T15:04:36',\n",
       "  'media_url': 'https://instagram.fyei6-3.fna.fbcdn.net/v/t51.29350-15/468733212_988855689656010_8524710834856671074_n.jpg?stp=cp6_dst-jpg_e35_tt6&efg=eyJ2ZW5jb2RlX3RhZyI6ImltYWdlX3VybGdlbi4xODAweDE0NDAuc2RyLmYyOTM1MC5kZWZhdWx0X2ltYWdlIn0&_nc_ht=instagram.fyei6-3.fna.fbcdn.net&_nc_cat=106&_nc_ohc=1AiefYlhyXQQ7kNvgEuXN3E&_nc_gid=dc7fa48f98674a4f85cab9104ce162b4&edm=AEhyXUkBAAAA&ccb=7-5&ig_cache_key=MzUxMDYzMTIzMTQ1MzMwMjExOQ%3D%3D.3-ccb7-5&oh=00_AYCOP1rhy6BC6dBUdXhdg4bqewocCEsA4pM_35Tjm8CMog&oe=6755254E&_nc_sid=8f1549',\n",
       "  'post_shortcode': 'DC4RIFAKo1n'},\n",
       " {'caption': '\"Weaving personal experience and keen anthropological theory into a lush and haunting tapestry of magical portrayals from pop culture, [Elizabeth] Sankey achieves an intricate archival exposition backed with tremendous feeling.\" — Indiewire\\n\\nWITCHES is now streaming exclusively and globally.',\n",
       "  'likes': 2854,\n",
       "  'comments': 21,\n",
       "  'timestamp': '2024-11-27T12:01:28',\n",
       "  'media_url': 'https://instagram.fyei6-4.fna.fbcdn.net/v/t51.29350-15/468281691_1124087732578924_3646372460526828248_n.jpg?stp=dst-jpg_e15_tt6&efg=eyJ2ZW5jb2RlX3RhZyI6ImltYWdlX3VybGdlbi4xMDgweDEwODAuc2RyLmYyOTM1MC5kZWZhdWx0X2NvdmVyX2ZyYW1lIn0&_nc_ht=instagram.fyei6-4.fna.fbcdn.net&_nc_cat=104&_nc_ohc=LNYLcm2oBN8Q7kNvgEk-KUd&_nc_gid=dc7fa48f98674a4f85cab9104ce162b4&edm=AEhyXUkBAAAA&ccb=7-5&ig_cache_key=MzUxMDUzODgwMzAwMTQ1NjU4Ng%3D%3D.3-ccb7-5&oh=00_AYDftGIxDyAr3UCcgYiRoXvsVsJSa6dcM06tk_wy4mSnmw&oe=67552842&_nc_sid=8f1549',\n",
       "  'post_shortcode': 'DC38HETIHfK'},\n",
       " {'caption': \"A standout selection from this year's Cannes, based on a chilling true story.\\n\\nMagnus von Horn's THE GIRL WITH THE NEEDLE is in theaters in the US & Canada December 6, Germany & Latin America January 9, and the UK January 10. A MUBI Release.\",\n",
       "  'likes': 2096,\n",
       "  'comments': 11,\n",
       "  'timestamp': '2024-11-26T17:55:48',\n",
       "  'media_url': 'https://instagram.fyei6-4.fna.fbcdn.net/v/t51.29350-15/467947605_1372487233724338_5442316159275355247_n.jpg?stp=dst-jpg_e35&_nc_ht=instagram.fyei6-4.fna.fbcdn.net&_nc_cat=110&_nc_ohc=L0yAvWqvAhgQ7kNvgHij08P&_nc_gid=dc7fa48f98674a4f85cab9104ce162b4&edm=AEhyXUkBAAAA&ccb=7-5&ig_cache_key=MzUwOTk5MjYxNTYxOTA3MzQ5Nw%3D%3D.3-ccb7-5&oh=00_AYCwQhefb_bPQAsPCPbecXwpZ9YR_W2vRcclZub7y00uOQ&oe=6754F4F5&_nc_sid=8f1549',\n",
       "  'post_shortcode': 'DC1_7GROdsN'},\n",
       " {'caption': \"Combining sadomasochism and Sapphism to delectable ends, Athina Rachel Tsangari's sensuous short film THE CAPSULE is #NowStreaming (almost) globally\",\n",
       "  'likes': 1204,\n",
       "  'comments': 5,\n",
       "  'timestamp': '2024-11-26T15:01:11',\n",
       "  'media_url': 'https://instagram.fyei6-4.fna.fbcdn.net/v/t51.29350-15/467334867_1779451856217400_8081699143141673421_n.jpg?stp=dst-jpg_e15_tt6&efg=eyJ2ZW5jb2RlX3RhZyI6ImltYWdlX3VybGdlbi4xMDgweDEwODAuc2RyLmYyOTM1MC5kZWZhdWx0X2NvdmVyX2ZyYW1lIn0&_nc_ht=instagram.fyei6-4.fna.fbcdn.net&_nc_cat=104&_nc_ohc=zkYOHwpN47sQ7kNvgFUxi2f&_nc_gid=dc7fa48f98674a4f85cab9104ce162b4&edm=AEhyXUkBAAAA&ccb=7-5&ig_cache_key=MzUwOTkwNDQyNDMzNDYzODk3MQ%3D%3D.3-ccb7-5&oh=00_AYAfxmdtwND94ADtuMVtxcU5Sw-e37UoVTgQt9OPdVlQig&oe=67552513&_nc_sid=8f1549',\n",
       "  'post_shortcode': 'DC1r3pICb97'},\n",
       " {'caption': 'A raw, unflinching dive into the tangled threads of motherhood and mental health, Elizabeth Sankey’s WITCHES is now streaming exclusively and globally.',\n",
       "  'likes': 9077,\n",
       "  'comments': 11,\n",
       "  'timestamp': '2024-11-26T11:59:33',\n",
       "  'media_url': 'https://instagram.fyei6-4.fna.fbcdn.net/v/t51.29350-15/468410497_1268987717584168_9011353214991217336_n.jpg?stp=dst-jpg_e15_fr_s1080x1080_tt6&_nc_ht=instagram.fyei6-4.fna.fbcdn.net&_nc_cat=104&_nc_ohc=64-wU-OgjvMQ7kNvgH5MhA7&_nc_gid=dc7fa48f98674a4f85cab9104ce162b4&edm=AEhyXUkBAAAA&ccb=7-5&ig_cache_key=MzUwOTgxMzMwMjcwNTY3MzcwMA%3D%3D.3-ccb7-5&oh=00_AYCgG7dzIFCS-OB8N3F6hssJHGMOvv7YRPFqZP57YlpWTg&oe=67550834&_nc_sid=8f1549',\n",
       "  'post_shortcode': 'DC1XJ1ZN5rI'},\n",
       " {'caption': \"Credited with ushering in a new era of multicultural German filmmaking, Fatih Akin's vital debut weaves a vibrant and complex tapestry of immigrant life in Hamburg. Last chance for SHORT SHARP SHOCK. #NowStreaming on:\\n🇧🇷 @mubibrasil\\n🇫🇷 @mubifrance\\n🇨🇦 @mubicanada\\n🇮🇳 @mubiindia\\n🇮🇹 @mubiitalia\\n🇦🇷🇨🇱🇨🇴🇲🇽🇵🇪 @mubilat\\n🇳🇱 @mubinederland\\n🇹🇷 @mubiturkiye\\n🇬🇧 @mubiuk\\n🇺🇸 @mubiusa\",\n",
       "  'likes': 5178,\n",
       "  'comments': 38,\n",
       "  'timestamp': '2024-11-25T19:01:13',\n",
       "  'media_url': 'https://instagram.fyei6-3.fna.fbcdn.net/v/t51.29350-15/468036202_1291713768609836_2426019476999304021_n.jpg?stp=dst-jpg_e15&efg=eyJ2ZW5jb2RlX3RhZyI6ImltYWdlX3VybGdlbi4xMDgweDEwODAuc2RyLmYyOTM1MC5kZWZhdWx0X2NvdmVyX2ZyYW1lIn0&_nc_ht=instagram.fyei6-3.fna.fbcdn.net&_nc_cat=108&_nc_ohc=U-0lltE9CpYQ7kNvgGyF1yD&_nc_gid=dc7fa48f98674a4f85cab9104ce162b4&edm=AEhyXUkBAAAA&ccb=7-5&ig_cache_key=MzUwOTMwMDQ3NTAxMDc3ODc3NQ%3D%3D.3-ccb7-5&oh=00_AYCsfxAfQ1HrRUcDhxAGbFd1f5zzyo4o66GICKEKUXnAkQ&oe=67551FDA&_nc_sid=8f1549',\n",
       "  'post_shortcode': 'DCzijBfIIaX'},\n",
       " {'caption': 'SHADOWS OF FORGOTTEN ANCESTORS (Sergei Parajanov, 1965.)',\n",
       "  'likes': 6907,\n",
       "  'comments': 19,\n",
       "  'timestamp': '2024-11-25T15:13:11',\n",
       "  'media_url': 'https://instagram.fyei6-3.fna.fbcdn.net/v/t51.2885-15/468558267_18475484989048688_2861106179699953243_n.jpg?stp=dst-jpg_e15_s750x750&_nc_ht=instagram.fyei6-3.fna.fbcdn.net&_nc_cat=108&_nc_ohc=EY0NzATLKUkQ7kNvgGRLPax&_nc_gid=dc7fa48f98674a4f85cab9104ce162b4&edm=AEhyXUkBAAAA&ccb=7-5&ig_cache_key=MzUwOTE2OTkwOTU0OTg2MTE1MQ%3D%3D.3-ccb7-5&oh=00_AYCHeCgPKVyFa8ISP_NWG-ogBKX-AKYK8znHRJ0atjGiPg&oe=67550BFF&_nc_sid=8f1549',\n",
       "  'post_shortcode': 'DCzKeJAtT5E'},\n",
       " {'caption': 'See the movies that shaped your year. MUBI Retrospective is coming soon.',\n",
       "  'likes': 760,\n",
       "  'comments': 3,\n",
       "  'timestamp': '2024-11-25T11:51:32',\n",
       "  'media_url': 'https://instagram.fyei6-3.fna.fbcdn.net/v/t51.2885-15/467856419_18475459324048688_1878487690799412118_n.jpg?stp=dst-jpg_e15_tt6&efg=eyJ2ZW5jb2RlX3RhZyI6ImltYWdlX3VybGdlbi4xMDgweDEwODAuc2RyLmY3NTc2MS5kZWZhdWx0X2NvdmVyX2ZyYW1lIn0&_nc_ht=instagram.fyei6-3.fna.fbcdn.net&_nc_cat=108&_nc_ohc=Kf3jDZ4UzCcQ7kNvgHqrQmQ&_nc_gid=dc7fa48f98674a4f85cab9104ce162b4&edm=AEhyXUkBAAAA&ccb=7-5&ig_cache_key=MzUwOTA4NDQyNTY1NzgyNzI0MA%3D%3D.3-ccb7-5&oh=00_AYC8hXTrXp6brit3f1omZSKqJD9NbOOviBXfzHfxB4qsWw&oe=6754FAFB&_nc_sid=8f1549',\n",
       "  'post_shortcode': 'DCyxbF2ML-o'},\n",
       " {'caption': 'Winner of the Palme d’Or, Apichatpong Weerasethakul’s gentle, quietly audacious tale of memories shows past lives reinvented, with each 16mm film reel subtly taking a different style—horror film, fairy tale, and more. UNCLE BOONMEE WHO CAN RECALL HIS PAST LIVES is #NowStreaming on:\\n🇨🇦 @mubicanada\\n🇩🇪 @mubideutschland\\n🇮🇳 @mubiindia\\n🇮🇹 @mubiitalia\\n🇦🇷🇨🇱🇨🇴🇲🇽🇵🇪 @mubilat\\n🇹🇷 @mubiturkiye\\n🇬🇧 @mubiuk',\n",
       "  'likes': 10843,\n",
       "  'comments': 48,\n",
       "  'timestamp': '2024-11-24T20:05:00',\n",
       "  'media_url': 'https://instagram.fyei6-3.fna.fbcdn.net/v/t51.2885-15/468143582_18475318036048688_1806700427120780181_n.jpg?stp=dst-jpg_e35_s1080x1080_sh0.08&_nc_ht=instagram.fyei6-3.fna.fbcdn.net&_nc_cat=108&_nc_ohc=oYGqKdTFUQoQ7kNvgHXrXdu&_nc_gid=dc7fa48f98674a4f85cab9104ce162b4&edm=AEhyXUkBAAAA&ccb=7-5&ig_cache_key=MzUwODUxMzA2NTkwNjk5NjA2OA%3D%3D.3-ccb7-5&oh=00_AYAlTIFaiyGDTY7EA8cE7_YhZRT6okDfhgaqxoIBJjuYJw&oe=6754FD14&_nc_sid=8f1549',\n",
       "  'post_shortcode': 'DCxFJarNSDS'},\n",
       " {'caption': 'Elizabeth Sankey (@sankles) introduces her film WITCHES, an intimate documentary intertwining her personal experiences with historical and cinematic footage. Now streaming exclusively and globally.',\n",
       "  'likes': 1972,\n",
       "  'comments': 9,\n",
       "  'timestamp': '2024-11-24T16:00:58',\n",
       "  'media_url': 'https://instagram.fyei6-3.fna.fbcdn.net/v/t51.29350-15/468063706_3877379409256662_4613561565248373516_n.jpg?stp=dst-jpg_e15&efg=eyJ2ZW5jb2RlX3RhZyI6ImltYWdlX3VybGdlbi4xMDgweDEwODAuc2RyLmYyOTM1MC5kZWZhdWx0X2NvdmVyX2ZyYW1lIn0&_nc_ht=instagram.fyei6-3.fna.fbcdn.net&_nc_cat=106&_nc_ohc=P0_LW2xDZk8Q7kNvgFwtC19&_nc_gid=dc7fa48f98674a4f85cab9104ce162b4&edm=AEhyXUkBAAAA&ccb=7-5&ig_cache_key=MzUwODQ4NTA3Njc3MTkyNzM1NQ%3D%3D.3-ccb7-5&oh=00_AYA89Eh_lsmCwxAlb8qVmfy1ux-dWaVhgdFKW7QYps01EA&oe=67550418&_nc_sid=8f1549',\n",
       "  'post_shortcode': 'DCwpJasv_U7'},\n",
       " {'caption': 'Happy birthday to the mind behind THE SUBSTANCE, Coralie Fargeat.',\n",
       "  'likes': 10443,\n",
       "  'comments': 63,\n",
       "  'timestamp': '2024-11-24T15:02:49',\n",
       "  'media_url': 'https://instagram.fyei6-5.fna.fbcdn.net/v/t51.29350-15/468130745_936094385065439_3565427709922059182_n.jpg?stp=dst-jpg_e35&_nc_ht=instagram.fyei6-5.fna.fbcdn.net&_nc_cat=111&_nc_ohc=di2zAjkqJscQ7kNvgERYRxP&_nc_gid=dc7fa48f98674a4f85cab9104ce162b4&edm=AEhyXUkBAAAA&ccb=7-5&ig_cache_key=MzUwODQ1NTk5NTE5NDAwMDIxMw%3D%3D.3-ccb7-5&oh=00_AYAVe1RYTiFD2rUT6GM7YoDA1WvI0ZZCITkm4JfTposAag&oe=6755255A&_nc_sid=8f1549',\n",
       "  'post_shortcode': 'DCwiibRIrYl'},\n",
       " {'caption': 'Alice Rohrwacher braids the discoveries of girlhood into towering questions of faith in her first feature CORPO CELESTE, creating a coming-of-age tale that is at once lived-in and divine. #NowStreaming on:\\n🇧🇷 @mubibrasil\\n🇫🇷 @mubifrance\\n🇨🇦 @mubicanada\\n🇩🇪 @mubideutschland\\n🇮🇳 @mubiindia\\n🇦🇷🇨🇱🇨🇴🇲🇽🇵🇪 @mubilat\\n🇹🇷 @mubiturkiye\\n🇬🇧🇮🇪 @mubiuk',\n",
       "  'likes': 9748,\n",
       "  'comments': 25,\n",
       "  'timestamp': '2024-11-24T12:36:33',\n",
       "  'media_url': 'https://instagram.fyei6-3.fna.fbcdn.net/v/t51.2885-15/468368728_18475271662048688_2039943460341050854_n.jpg?stp=dst-jpg_e35_s1080x1080_sh0.08&_nc_ht=instagram.fyei6-3.fna.fbcdn.net&_nc_cat=108&_nc_ohc=NVyHhr09qUoQ7kNvgEhtp5i&_nc_gid=dc7fa48f98674a4f85cab9104ce162b4&edm=AEhyXUkBAAAA&ccb=7-5&ig_cache_key=MzUwODM4MjM2OTM4OTY0MTE5NA%3D%3D.3-ccb7-5&oh=00_AYAG_xzcje3uOccZrhperVb3a1vdVxm_zw5PBn5dyKZwPQ&oe=675512C0&_nc_sid=8f1549',\n",
       "  'post_shortcode': 'DCwRzCaN6P6'}]"
      ]
     },
     "execution_count": 67,
     "metadata": {},
     "output_type": "execute_result"
    }
   ],
   "source": [
    "x[\"posts\"]\n"
   ]
  },
  {
   "cell_type": "code",
   "execution_count": 4,
   "metadata": {},
   "outputs": [],
   "source": [
    "part1  = usernames[0:50]\n",
    "part2 = usernames [50:101]\n",
    "part3 = usernames [101:151]"
   ]
  },
  {
   "cell_type": "code",
   "execution_count": null,
   "metadata": {},
   "outputs": [],
   "source": [
    "x = []\n",
    "for i in part1:\n",
    "    temp = scraping(i)\n",
    "    if isinstance(temp, dict):\n",
    "        x.append(temp)"
   ]
  },
  {
   "cell_type": "code",
   "execution_count": null,
   "metadata": {},
   "outputs": [],
   "source": [
    "file = open(\"DatasetsV2.json\",\"x\")"
   ]
  },
  {
   "cell_type": "code",
   "execution_count": null,
   "metadata": {},
   "outputs": [],
   "source": [
    "for i in x:\n",
    "    print(type(i))"
   ]
  },
  {
   "cell_type": "code",
   "execution_count": null,
   "metadata": {},
   "outputs": [
    {
     "ename": "TypeError",
     "evalue": "Object of type set is not JSON serializable",
     "output_type": "error",
     "traceback": [
      "\u001b[1;31m---------------------------------------------------------------------------\u001b[0m",
      "\u001b[1;31mTypeError\u001b[0m                                 Traceback (most recent call last)",
      "Input \u001b[1;32mIn [39]\u001b[0m, in \u001b[0;36m<cell line: 2>\u001b[1;34m()\u001b[0m\n\u001b[0;32m      1\u001b[0m \u001b[38;5;28;01mimport\u001b[39;00m \u001b[38;5;21;01mjson\u001b[39;00m\n\u001b[1;32m----> 2\u001b[0m \u001b[43mjson\u001b[49m\u001b[38;5;241;43m.\u001b[39;49m\u001b[43mdump\u001b[49m\u001b[43m(\u001b[49m\u001b[43mx\u001b[49m\u001b[43m,\u001b[49m\u001b[43m \u001b[49m\u001b[43mfile\u001b[49m\u001b[43m,\u001b[49m\u001b[43m \u001b[49m\u001b[43mindent\u001b[49m\u001b[38;5;241;43m=\u001b[39;49m\u001b[38;5;241;43m4\u001b[39;49m\u001b[43m,\u001b[49m\u001b[43m \u001b[49m\u001b[43mensure_ascii\u001b[49m\u001b[38;5;241;43m=\u001b[39;49m\u001b[38;5;28;43;01mFalse\u001b[39;49;00m\u001b[43m)\u001b[49m\n",
      "File \u001b[1;32mc:\\Users\\Mert\\anaconda3\\lib\\json\\__init__.py:179\u001b[0m, in \u001b[0;36mdump\u001b[1;34m(obj, fp, skipkeys, ensure_ascii, check_circular, allow_nan, cls, indent, separators, default, sort_keys, **kw)\u001b[0m\n\u001b[0;32m    173\u001b[0m     iterable \u001b[38;5;241m=\u001b[39m \u001b[38;5;28mcls\u001b[39m(skipkeys\u001b[38;5;241m=\u001b[39mskipkeys, ensure_ascii\u001b[38;5;241m=\u001b[39mensure_ascii,\n\u001b[0;32m    174\u001b[0m         check_circular\u001b[38;5;241m=\u001b[39mcheck_circular, allow_nan\u001b[38;5;241m=\u001b[39mallow_nan, indent\u001b[38;5;241m=\u001b[39mindent,\n\u001b[0;32m    175\u001b[0m         separators\u001b[38;5;241m=\u001b[39mseparators,\n\u001b[0;32m    176\u001b[0m         default\u001b[38;5;241m=\u001b[39mdefault, sort_keys\u001b[38;5;241m=\u001b[39msort_keys, \u001b[38;5;241m*\u001b[39m\u001b[38;5;241m*\u001b[39mkw)\u001b[38;5;241m.\u001b[39miterencode(obj)\n\u001b[0;32m    177\u001b[0m \u001b[38;5;66;03m# could accelerate with writelines in some versions of Python, at\u001b[39;00m\n\u001b[0;32m    178\u001b[0m \u001b[38;5;66;03m# a debuggability cost\u001b[39;00m\n\u001b[1;32m--> 179\u001b[0m \u001b[38;5;28;01mfor\u001b[39;00m chunk \u001b[38;5;129;01min\u001b[39;00m iterable:\n\u001b[0;32m    180\u001b[0m     fp\u001b[38;5;241m.\u001b[39mwrite(chunk)\n",
      "File \u001b[1;32mc:\\Users\\Mert\\anaconda3\\lib\\json\\encoder.py:429\u001b[0m, in \u001b[0;36m_make_iterencode.<locals>._iterencode\u001b[1;34m(o, _current_indent_level)\u001b[0m\n\u001b[0;32m    427\u001b[0m     \u001b[38;5;28;01myield\u001b[39;00m _floatstr(o)\n\u001b[0;32m    428\u001b[0m \u001b[38;5;28;01melif\u001b[39;00m \u001b[38;5;28misinstance\u001b[39m(o, (\u001b[38;5;28mlist\u001b[39m, \u001b[38;5;28mtuple\u001b[39m)):\n\u001b[1;32m--> 429\u001b[0m     \u001b[38;5;28;01myield from\u001b[39;00m _iterencode_list(o, _current_indent_level)\n\u001b[0;32m    430\u001b[0m \u001b[38;5;28;01melif\u001b[39;00m \u001b[38;5;28misinstance\u001b[39m(o, \u001b[38;5;28mdict\u001b[39m):\n\u001b[0;32m    431\u001b[0m     \u001b[38;5;28;01myield from\u001b[39;00m _iterencode_dict(o, _current_indent_level)\n",
      "File \u001b[1;32mc:\\Users\\Mert\\anaconda3\\lib\\json\\encoder.py:325\u001b[0m, in \u001b[0;36m_make_iterencode.<locals>._iterencode_list\u001b[1;34m(lst, _current_indent_level)\u001b[0m\n\u001b[0;32m    323\u001b[0m         \u001b[38;5;28;01melse\u001b[39;00m:\n\u001b[0;32m    324\u001b[0m             chunks \u001b[38;5;241m=\u001b[39m _iterencode(value, _current_indent_level)\n\u001b[1;32m--> 325\u001b[0m         \u001b[38;5;28;01myield from\u001b[39;00m chunks\n\u001b[0;32m    326\u001b[0m \u001b[38;5;28;01mif\u001b[39;00m newline_indent \u001b[38;5;129;01mis\u001b[39;00m \u001b[38;5;129;01mnot\u001b[39;00m \u001b[38;5;28;01mNone\u001b[39;00m:\n\u001b[0;32m    327\u001b[0m     _current_indent_level \u001b[38;5;241m-\u001b[39m\u001b[38;5;241m=\u001b[39m \u001b[38;5;241m1\u001b[39m\n",
      "File \u001b[1;32mc:\\Users\\Mert\\anaconda3\\lib\\json\\encoder.py:438\u001b[0m, in \u001b[0;36m_make_iterencode.<locals>._iterencode\u001b[1;34m(o, _current_indent_level)\u001b[0m\n\u001b[0;32m    436\u001b[0m         \u001b[38;5;28;01mraise\u001b[39;00m \u001b[38;5;167;01mValueError\u001b[39;00m(\u001b[38;5;124m\"\u001b[39m\u001b[38;5;124mCircular reference detected\u001b[39m\u001b[38;5;124m\"\u001b[39m)\n\u001b[0;32m    437\u001b[0m     markers[markerid] \u001b[38;5;241m=\u001b[39m o\n\u001b[1;32m--> 438\u001b[0m o \u001b[38;5;241m=\u001b[39m \u001b[43m_default\u001b[49m\u001b[43m(\u001b[49m\u001b[43mo\u001b[49m\u001b[43m)\u001b[49m\n\u001b[0;32m    439\u001b[0m \u001b[38;5;28;01myield from\u001b[39;00m _iterencode(o, _current_indent_level)\n\u001b[0;32m    440\u001b[0m \u001b[38;5;28;01mif\u001b[39;00m markers \u001b[38;5;129;01mis\u001b[39;00m \u001b[38;5;129;01mnot\u001b[39;00m \u001b[38;5;28;01mNone\u001b[39;00m:\n",
      "File \u001b[1;32mc:\\Users\\Mert\\anaconda3\\lib\\json\\encoder.py:179\u001b[0m, in \u001b[0;36mJSONEncoder.default\u001b[1;34m(self, o)\u001b[0m\n\u001b[0;32m    160\u001b[0m \u001b[38;5;28;01mdef\u001b[39;00m \u001b[38;5;21mdefault\u001b[39m(\u001b[38;5;28mself\u001b[39m, o):\n\u001b[0;32m    161\u001b[0m     \u001b[38;5;124;03m\"\"\"Implement this method in a subclass such that it returns\u001b[39;00m\n\u001b[0;32m    162\u001b[0m \u001b[38;5;124;03m    a serializable object for ``o``, or calls the base implementation\u001b[39;00m\n\u001b[0;32m    163\u001b[0m \u001b[38;5;124;03m    (to raise a ``TypeError``).\u001b[39;00m\n\u001b[1;32m   (...)\u001b[0m\n\u001b[0;32m    177\u001b[0m \n\u001b[0;32m    178\u001b[0m \u001b[38;5;124;03m    \"\"\"\u001b[39;00m\n\u001b[1;32m--> 179\u001b[0m     \u001b[38;5;28;01mraise\u001b[39;00m \u001b[38;5;167;01mTypeError\u001b[39;00m(\u001b[38;5;124mf\u001b[39m\u001b[38;5;124m'\u001b[39m\u001b[38;5;124mObject of type \u001b[39m\u001b[38;5;132;01m{\u001b[39;00mo\u001b[38;5;241m.\u001b[39m\u001b[38;5;18m__class__\u001b[39m\u001b[38;5;241m.\u001b[39m\u001b[38;5;18m__name__\u001b[39m\u001b[38;5;132;01m}\u001b[39;00m\u001b[38;5;124m \u001b[39m\u001b[38;5;124m'\u001b[39m\n\u001b[0;32m    180\u001b[0m                     \u001b[38;5;124mf\u001b[39m\u001b[38;5;124m'\u001b[39m\u001b[38;5;124mis not JSON serializable\u001b[39m\u001b[38;5;124m'\u001b[39m)\n",
      "\u001b[1;31mTypeError\u001b[0m: Object of type set is not JSON serializable"
     ]
    }
   ],
   "source": [
    "import json\n",
    "json.dump(x, file, indent=4, ensure_ascii=False)"
   ]
  },
  {
   "cell_type": "code",
   "execution_count": null,
   "metadata": {},
   "outputs": [],
   "source": [
    "file.close()"
   ]
  },
  {
   "cell_type": "code",
   "execution_count": null,
   "metadata": {},
   "outputs": [],
   "source": [
    "x = []\n",
    "for i in part2:\n",
    "    temp = scraping(i)\n",
    "    if isinstance(temp, dict):\n",
    "        x.append(temp)"
   ]
  },
  {
   "cell_type": "code",
   "execution_count": null,
   "metadata": {},
   "outputs": [],
   "source": [
    "with open (\"DatasetsV3.json\", \"r\") as file:\n",
    "    data = json.load(file)\n",
    "data.append(x)\n",
    "\n",
    "with open(\"DatasetsV3.json\", \"w\") as file:\n",
    "    json.dump(data, file, indent=4)"
   ]
  },
  {
   "cell_type": "code",
   "execution_count": null,
   "metadata": {},
   "outputs": [],
   "source": [
    "file.close()"
   ]
  },
  {
   "cell_type": "code",
   "execution_count": 5,
   "metadata": {},
   "outputs": [
    {
     "name": "stdout",
     "output_type": "stream",
     "text": [
      "\n",
      "Too many queries in the last time. Need to wait 191 seconds, until 23:12.\n",
      "\n",
      "Too many queries in the last time. Need to wait 188 seconds, until 23:23.\n",
      "\n",
      "Too many queries in the last time. Need to wait 162 seconds, until 23:34.\n",
      "\n",
      "Too many queries in the last time. Need to wait 155 seconds, until 23:45.\n",
      "\n",
      "Too many queries in the last time. Need to wait 135 seconds, until 23:56.\n",
      "\n",
      "Too many queries in the last time. Need to wait 17 seconds, until 23:57.\n"
     ]
    },
    {
     "name": "stderr",
     "output_type": "stream",
     "text": [
      "JSON Query to api/v1/users/web_profile_info/?username=outdoorfestturkiye: 404 Not Found when accessing https://i.instagram.com/api/v1/users/web_profile_info/?username=outdoorfestturkiye [retrying; skip with ^C]\n",
      "JSON Query to api/v1/users/web_profile_info/?username=outdoorfestturkiye: 404 Not Found when accessing https://i.instagram.com/api/v1/users/web_profile_info/?username=outdoorfestturkiye [retrying; skip with ^C]\n",
      "JSON Query to web/search/topsearch/: 401 Unauthorized - \"fail\" status, message \"Server Error\" when accessing https://www.instagram.com/web/search/topsearch/?context=blended&query=outdoorfestturkiye&include_reel=False&__a=1 [retrying; skip with ^C]\n",
      "JSON Query to web/search/topsearch/: 401 Unauthorized - \"fail\" status, message \"Server Error\" when accessing https://www.instagram.com/web/search/topsearch/?context=blended&query=outdoorfestturkiye&include_reel=False&__a=1 [retrying; skip with ^C]\n"
     ]
    },
    {
     "name": "stdout",
     "output_type": "stream",
     "text": [
      "\n",
      "Too many queries in the last time. Need to wait 133 seconds, until 00:07.\n"
     ]
    },
    {
     "name": "stderr",
     "output_type": "stream",
     "text": [
      "JSON Query to api/v1/users/web_profile_info/?username=turkiyekaykayfederasyonu: 404 Not Found when accessing https://i.instagram.com/api/v1/users/web_profile_info/?username=turkiyekaykayfederasyonu [retrying; skip with ^C]\n",
      "JSON Query to api/v1/users/web_profile_info/?username=turkiyekaykayfederasyonu: 404 Not Found when accessing https://i.instagram.com/api/v1/users/web_profile_info/?username=turkiyekaykayfederasyonu [retrying; skip with ^C]\n",
      "JSON Query to web/search/topsearch/: 401 Unauthorized - \"fail\" status, message \"Server Error\" when accessing https://www.instagram.com/web/search/topsearch/?context=blended&query=turkiyekaykayfederasyonu&include_reel=False&__a=1 [retrying; skip with ^C]\n",
      "JSON Query to web/search/topsearch/: 401 Unauthorized - \"fail\" status, message \"Server Error\" when accessing https://www.instagram.com/web/search/topsearch/?context=blended&query=turkiyekaykayfederasyonu&include_reel=False&__a=1 [retrying; skip with ^C]\n"
     ]
    },
    {
     "name": "stdout",
     "output_type": "stream",
     "text": [
      "\n",
      "Too many queries in the last time. Need to wait 16 seconds, until 00:08.\n",
      "\n",
      "Too many queries in the last time. Need to wait 134 seconds, until 00:18.\n",
      "\n",
      "Too many queries in the last time. Need to wait 18 seconds, until 00:24.\n",
      "\n",
      "Too many queries in the last time. Need to wait 130 seconds, until 00:30.\n"
     ]
    }
   ],
   "source": [
    "x = []\n",
    "for i in part3:\n",
    "    temp = scraping(i)\n",
    "    if isinstance(temp, dict):\n",
    "        x.append(temp)"
   ]
  },
  {
   "cell_type": "code",
   "execution_count": 8,
   "metadata": {},
   "outputs": [],
   "source": [
    "file = open(\"DatasetsV4.json\",\"x\")"
   ]
  },
  {
   "cell_type": "code",
   "execution_count": null,
   "metadata": {},
   "outputs": [
    {
     "ename": "",
     "evalue": "",
     "output_type": "error",
     "traceback": [
      "\u001b[1;31mThe Kernel crashed while executing code in the current cell or a previous cell. \n",
      "\u001b[1;31mPlease review the code in the cell(s) to identify a possible cause of the failure. \n",
      "\u001b[1;31mClick <a href='https://aka.ms/vscodeJupyterKernelCrash'>here</a> for more info. \n",
      "\u001b[1;31mView Jupyter <a href='command:jupyter.viewOutput'>log</a> for further details."
     ]
    }
   ],
   "source": [
    "import json\n",
    "with open (\"DatasetsV3.json\", \"r\") as file:\n",
    "    data = json.load(file)\n",
    "data.append(x)\n",
    "\n",
    "with open(\"DatasetsV4.json\", \"w\") as file:\n",
    "    json.dump(data, file, indent=4)"
   ]
  },
  {
   "cell_type": "code",
   "execution_count": null,
   "metadata": {},
   "outputs": [],
   "source": [
    "file.close()"
   ]
  }
 ],
 "metadata": {
  "kernelspec": {
   "display_name": "base",
   "language": "python",
   "name": "python3"
  },
  "language_info": {
   "codemirror_mode": {
    "name": "ipython",
    "version": 3
   },
   "file_extension": ".py",
   "mimetype": "text/x-python",
   "name": "python",
   "nbconvert_exporter": "python",
   "pygments_lexer": "ipython3",
   "version": "3.9.12"
  }
 },
 "nbformat": 4,
 "nbformat_minor": 2
}
